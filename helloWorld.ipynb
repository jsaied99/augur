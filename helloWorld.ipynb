{
 "cells": [
  {
   "cell_type": "code",
   "execution_count": 1,
   "metadata": {},
   "outputs": [],
   "source": [
    "import requests\n",
    "import json"
   ]
  },
  {
   "cell_type": "code",
   "execution_count": 2,
   "metadata": {},
   "outputs": [],
   "source": [
    "url = \"https://job-search4.p.rapidapi.com/simplyhired/\"\n",
    "querystring = {\"query\":\"Univeristy of Missouri\"}\n",
    "headers = {\n",
    "    'x-rapidapi-key': \"0a1449c97fmshc98d54f2a209dfbp175d54jsn1408a1529a02\",\n",
    "    'x-rapidapi-host': \"job-search4.p.rapidapi.com\"\n",
    "}"
   ]
  },
  {
   "cell_type": "code",
   "execution_count": 3,
   "metadata": {},
   "outputs": [],
   "source": [
    "response = requests.request(\"GET\", url, headers=headers, params=querystring)\n",
    "result = json.loads(response.text)"
   ]
  },
  {
   "cell_type": "code",
   "execution_count": 4,
   "metadata": {},
   "outputs": [
    {
     "data": {
      "text/plain": [
       "{'date': '2021-04-22T01:41:22.210071',\n",
       " 'status': 'success',\n",
       " 'results': [{'date_posted': '2020-10-14T00:00:00',\n",
       "   'title': 'Community Living Specialist- North County, West County, South County',\n",
       "   'source': 'lawjobs.com',\n",
       "   'company_name': 'Easterseals Midwest',\n",
       "   'detail_url': 'https://www.simplyhired.com/job/-bviFRyRg7q8ln-VUA1S1SBHSfGjw6Z2RHRcVe_U6KG3QBqpWD15NA?q=Univeristy+of+Missouri',\n",
       "   'location': 'St. Louis, MO',\n",
       "   'country': 'United States',\n",
       "   'state': 'Missouri',\n",
       "   'city': 'St. Louis',\n",
       "   'description': 'The Community Living Specialist works cooperatively with the program staff in providing consistent programming and behavioral interventions.'},\n",
       "  {'date_posted': '2021-03-11T00:00:00',\n",
       "   'title': 'Assistant/Associate/Full Professor',\n",
       "   'source': 'lawjobs.com',\n",
       "   'company_name': 'University of Missouri',\n",
       "   'detail_url': 'https://www.simplyhired.com/job/D48mVVa_64VZK9Vvh3-eqisI56kMbFihW39Zhttk9dQBuabPImn8iw?q=Univeristy+of+Missouri',\n",
       "   'location': 'Columbia, MO',\n",
       "   'country': 'United States',\n",
       "   'state': 'Missouri',\n",
       "   'city': 'Columbia',\n",
       "   'description': 'The Department of Public Health in the School of Health Professions at the Univeristy of Missouri (MU)- Columbia, seeks applicants for a full-time tenure/tenure…'}]}"
      ]
     },
     "execution_count": 4,
     "metadata": {},
     "output_type": "execute_result"
    }
   ],
   "source": [
    "result"
   ]
  },
  {
   "cell_type": "code",
   "execution_count": null,
   "metadata": {},
   "outputs": [],
   "source": []
  }
 ],
 "metadata": {
  "kernelspec": {
   "display_name": "Python 3",
   "language": "python",
   "name": "python3"
  },
  "language_info": {
   "codemirror_mode": {
    "name": "ipython",
    "version": 3
   },
   "file_extension": ".py",
   "mimetype": "text/x-python",
   "name": "python",
   "nbconvert_exporter": "python",
   "pygments_lexer": "ipython3",
   "version": "3.8.7"
  }
 },
 "nbformat": 4,
 "nbformat_minor": 4
}
